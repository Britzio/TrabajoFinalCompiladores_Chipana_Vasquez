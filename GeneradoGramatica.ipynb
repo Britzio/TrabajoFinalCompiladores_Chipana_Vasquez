{
  "nbformat": 4,
  "nbformat_minor": 0,
  "metadata": {
    "colab": {
      "provenance": []
    },
    "kernelspec": {
      "name": "python3",
      "display_name": "Python 3"
    },
    "language_info": {
      "name": "python"
    }
  },
  "cells": [
    {
      "cell_type": "markdown",
      "source": [
        "# **DEPENDENCIAS Y LIBRERÍAS**"
      ],
      "metadata": {
        "id": "vvK4HAocLRYO"
      }
    },
    {
      "cell_type": "code",
      "execution_count": null,
      "metadata": {
        "id": "gpFTrmfgLJlw"
      },
      "outputs": [],
      "source": [
        "# Limpieza de ficheros\n",
        "import os # Operaciones en ficheros\n",
        "for f in os.listdir():  # buscar archivos de tipo Expr, .pý, .tokens\n",
        "    if f.startswith(\"Expr\") or (f.endswith(\".py\") or f.endswith(\".tokens\")):\n",
        "        os.remove(f)  # limpia los encontrados"
      ]
    },
    {
      "cell_type": "code",
      "source": [
        "# Instalar componente ANTLR4 para Python\n",
        "!pip install antlr4-python3-runtime==4.13.1"
      ],
      "metadata": {
        "id": "1CVB8b84MWQt",
        "colab": {
          "base_uri": "https://localhost:8080/"
        },
        "outputId": "30535a81-e54e-4622-89a6-78450dc4b93d"
      },
      "execution_count": null,
      "outputs": [
        {
          "output_type": "stream",
          "name": "stdout",
          "text": [
            "Collecting antlr4-python3-runtime==4.13.1\n",
            "  Downloading antlr4_python3_runtime-4.13.1-py3-none-any.whl.metadata (304 bytes)\n",
            "Downloading antlr4_python3_runtime-4.13.1-py3-none-any.whl (144 kB)\n",
            "\u001b[?25l   \u001b[90m━━━━━━━━━━━━━━━━━━━━━━━━━━━━━━━━━━━━━━━━\u001b[0m \u001b[32m0.0/144.5 kB\u001b[0m \u001b[31m?\u001b[0m eta \u001b[36m-:--:--\u001b[0m\r\u001b[2K   \u001b[90m━━━━━━━━━━━━━━━━━━━━━━━━━━━━━━━━━━━━━━━━\u001b[0m \u001b[32m144.5/144.5 kB\u001b[0m \u001b[31m4.8 MB/s\u001b[0m eta \u001b[36m0:00:00\u001b[0m\n",
            "\u001b[?25hInstalling collected packages: antlr4-python3-runtime\n",
            "  Attempting uninstall: antlr4-python3-runtime\n",
            "    Found existing installation: antlr4-python3-runtime 4.9.3\n",
            "    Uninstalling antlr4-python3-runtime-4.9.3:\n",
            "      Successfully uninstalled antlr4-python3-runtime-4.9.3\n",
            "\u001b[31mERROR: pip's dependency resolver does not currently take into account all the packages that are installed. This behaviour is the source of the following dependency conflicts.\n",
            "omegaconf 2.3.0 requires antlr4-python3-runtime==4.9.*, but you have antlr4-python3-runtime 4.13.1 which is incompatible.\u001b[0m\u001b[31m\n",
            "\u001b[0mSuccessfully installed antlr4-python3-runtime-4.13.1\n"
          ]
        }
      ]
    },
    {
      "cell_type": "code",
      "source": [
        "# Descargar el compilador de ANTLR4\n",
        "!curl -O https://www.antlr.org/download/antlr-4.13.1-complete.jar"
      ],
      "metadata": {
        "id": "nDQD85-4MZqd",
        "colab": {
          "base_uri": "https://localhost:8080/"
        },
        "outputId": "788db4ad-0f29-448d-f35c-3f524ab661c0"
      },
      "execution_count": null,
      "outputs": [
        {
          "output_type": "stream",
          "name": "stdout",
          "text": [
            "  % Total    % Received % Xferd  Average Speed   Time    Time     Time  Current\n",
            "                                 Dload  Upload   Total   Spent    Left  Speed\n",
            "100 2089k  100 2089k    0     0  4274k      0 --:--:-- --:--:-- --:--:-- 4280k\n"
          ]
        }
      ]
    },
    {
      "cell_type": "markdown",
      "source": [
        "# **CREAR GRAMÁTICA**"
      ],
      "metadata": {
        "id": "H2GsJfLFMdi1"
      }
    },
    {
      "cell_type": "code",
      "source": [
        "# Reemplaza la celda donde defines 'gramatica' y escribes 'Expr.g4' con esto:\n",
        "\n",
        "# Reglas de nuestra gramática\n",
        "\n",
        "# Proximo objetivo:\n",
        "# datosPacienteSentence diagnosticoSentence medicamentoSentence+ fechasSentence EOF\n",
        "\n",
        "# Nombre gramatica: Expr\n",
        "\n",
        "gramatica = \"\"\"\n",
        "grammar Expr;\n",
        "\n",
        "// --- Reglas Sintácticas - Parser ---\n",
        "prog:\n",
        "    (registro)+ EOF\n",
        "    ;\n",
        "\n",
        "registro:\n",
        "    datosPacienteSentence diagnosticoSentence medicamentoSentence+ fechasSentence\n",
        "    ;\n",
        "\n",
        "// --- SubReglas Sintácticas - Parser ---\n",
        "datosPacienteSentence:\n",
        "    'Paciente:' WS* PALABRAS ',' WS* INT INT INT INT INT INT INT INT\n",
        "    ;\n",
        "\n",
        "diagnosticoSentence:\n",
        "    'Diagnostico:' WS* PALABRAS\n",
        "    ;\n",
        "\n",
        "fechasSentence:\n",
        "    'Expede:' WS* FECHA WS* 'Caduce:' WS* FECHA\n",
        "    ;\n",
        "\n",
        "medicamentoSentence:\n",
        "    'Medicamento:' WS* PALABRAS ',' WS* CONCENTRACION ',' WS* PALABRAS ',' WS* PALABRAS ',' WS* INT+ ',' WS* PALABRAS '.'\n",
        "    ;\n",
        "\n",
        "// --- Reglas Léxicas (Tokens) - Lexer ---\n",
        "PALABRAS :   [a-zA-ZáéíóúÁÉÍÓÚñÑ]+ ( ' ' [a-zA-ZáéíóúÁÉÍÓÚñÑ]+ )* ;\n",
        "INT :      [0-9] ;\n",
        "CONCENTRACION : INT+ ' ' PALABRAS ;\n",
        "FECHA :    INT INT '-' INT INT '-' INT INT ;\n",
        "\n",
        "WS  : [ \\\\t\\\\r\\\\n]+ -> skip ;\n",
        "\"\"\"\n",
        "\n",
        "with open(\"Expr.g4\", \"w\", encoding='utf-8', newline='\\n') as f:\n",
        "    f.write(gramatica)"
      ],
      "metadata": {
        "id": "LIoqZPPfMlcQ"
      },
      "execution_count": null,
      "outputs": []
    },
    {
      "cell_type": "markdown",
      "source": [
        "# **GENERAR ARCHIVOS**"
      ],
      "metadata": {
        "id": "8RikaKegNGcV"
      }
    },
    {
      "cell_type": "code",
      "source": [
        "# Genera varios archivos Lexer.py, Parser.py, .tokens, etc.\n",
        "#   Sirven para interpretar y ejecutar texto segun las reglas de la gramatica\n",
        "!java -jar antlr-4.13.1-complete.jar -Dlanguage=Python3 Expr.g4\n"
      ],
      "metadata": {
        "id": "CEIaYtHaNH_n"
      },
      "execution_count": null,
      "outputs": []
    },
    {
      "cell_type": "markdown",
      "source": [
        "# **PRUEBA DE GRAMÁTICA**"
      ],
      "metadata": {
        "id": "GLlK4G9IOHNB"
      }
    },
    {
      "cell_type": "code",
      "source": [
        "from antlr4 import *\n",
        "from ExprLexer import ExprLexer   # Importar Lexer del compilador\n",
        "from ExprParser import ExprParser # Importar Parser del compilador\n",
        "\n",
        "def parse_expression(input_text): # ingresa un String - texto\n",
        "    input_stream = InputStream(input_text)  # analizar texto\n",
        "    lexer = ExprLexer(input_stream)         # pasar al lexer\n",
        "    token_stream = CommonTokenStream(lexer) # pasar a los tokens\n",
        "    parser = ExprParser(token_stream)       # pasar al parser\n",
        "    tree = parser.prog()                    # obtener arbol semantico\n",
        "    return tree.toStringTree(recog=parser)  # convertir arbol a String"
      ],
      "metadata": {
        "id": "y02CgkaZOJYF"
      },
      "execution_count": null,
      "outputs": []
    },
    {
      "cell_type": "code",
      "source": [
        "# Prueba 1:\n",
        "print(parse_expression(\"\"\"Paciente: Juan Pérez Gómez, 12345678\n",
        "                          Diagnostico: Gripe común\n",
        "                          Medicamento: Paracetamol, 500 mg, Tableta, Oral, 5, Tomar cada ocho horas.\n",
        "                          Medicamento: Ibuprofeno, 10 mg, Tableta, Oral, 5, Tomar cada cinco horas.\n",
        "                          Expede: 01-05-25 Caduce: 01-06-25\"\"\"))"
      ],
      "metadata": {
        "id": "gfs2LayYOt7u",
        "colab": {
          "base_uri": "https://localhost:8080/"
        },
        "outputId": "159daee3-a0b4-44d1-dbfa-860999bda9ca"
      },
      "execution_count": null,
      "outputs": [
        {
          "output_type": "stream",
          "name": "stdout",
          "text": [
            "(prog (registro (datosPacienteSentence Paciente: Juan Pérez Gómez , 1 2 3 4 5 6 7 8) (diagnosticoSentence Diagnostico: Gripe común) (medicamentoSentence Medicamento: Paracetamol , 500 mg , Tableta , Oral , 5 , Tomar cada ocho horas .) (medicamentoSentence Medicamento: Ibuprofeno , 10 mg , Tableta , Oral , 5 , Tomar cada cinco horas .) (fechasSentence Expede: 01-05-25 Caduce: 01-06-25)) <EOF>)\n"
          ]
        }
      ]
    },
    {
      "cell_type": "code",
      "source": [
        "# Prueba 2:\n",
        "print(parse_expression(\"\"\"Paciente: Mario Chavez Raul, 12347478\n",
        "                        Diagnostico: Tos fuerte\n",
        "                        Medicamento: Paracetamol, 500 mg, Tableta, Oral, 5, Tomar cada ocho horas.\n",
        "                        Expede: 02-05-25 Caduce: 01-10-25\n",
        "                        Paciente: Carlos Méndez Ruiz, 11223344\n",
        "                        Diagnostico: Sinusitis crónica\n",
        "                        Medicamento: Cefalexina, 500 mg, Tableta, Oral, 14, Tomar cada ocho horas.\n",
        "                        Medicamento: Loratadina, 10 mg, Tableta, Oral, 7, Tomar una vez al día.\n",
        "                        Medicamento: Salbutamol, 100 mcg, Inhalador, Inhalatoria, 1, Usar cada seis horas si hay dificultad respiratoria.\n",
        "                        Expede: 05-06-25 Caduce: 05-08-25\"\"\"))"
      ],
      "metadata": {
        "id": "caysUg9gOvuN",
        "colab": {
          "base_uri": "https://localhost:8080/"
        },
        "outputId": "91845caf-8707-4512-b263-7739dd199f70"
      },
      "execution_count": null,
      "outputs": [
        {
          "output_type": "stream",
          "name": "stdout",
          "text": [
            "(prog (registro (datosPacienteSentence Paciente: Mario Chavez Raul , 1 2 3 4 7 4 7 8) (diagnosticoSentence Diagnostico: Tos fuerte) (medicamentoSentence Medicamento: Paracetamol , 500 mg , Tableta , Oral , 5 , Tomar cada ocho horas .) (fechasSentence Expede: 02-05-25 Caduce: 01-10-25)) (registro (datosPacienteSentence Paciente: Carlos Méndez Ruiz , 1 1 2 2 3 3 4 4) (diagnosticoSentence Diagnostico: Sinusitis crónica) (medicamentoSentence Medicamento: Cefalexina , 500 mg , Tableta , Oral , 1 4 , Tomar cada ocho horas .) (medicamentoSentence Medicamento: Loratadina , 10 mg , Tableta , Oral , 7 , Tomar una vez al día .) (medicamentoSentence Medicamento: Salbutamol , 100 mcg , Inhalador , Inhalatoria , 1 , Usar cada seis horas si hay dificultad respiratoria .) (fechasSentence Expede: 05-06-25 Caduce: 05-08-25)) <EOF>)\n"
          ]
        }
      ]
    },
    {
      "cell_type": "code",
      "source": [
        "# Prueba 3\n",
        "print(parse_expression(\"\"\"Paciente: Juan Pérez Gómez, 12345678\n",
        "                          Medicamento: Paracetamol, 500 mg, Tableta, Oral, 5, Tomar cada ocho horas.\n",
        "                          Diagnostico: Gripe común\n",
        "                          Medicamento: Ibuprofeno, 10 mg, Tableta, Oral, 5, Tomar cada cinco horas.\n",
        "                          Expede: 01-05-25 Caduce: 01-06-25\"\"\"))"
      ],
      "metadata": {
        "colab": {
          "base_uri": "https://localhost:8080/"
        },
        "id": "4lvFv7eb91gX",
        "outputId": "d51e913a-09ee-45c8-f589-6331e9692bc2"
      },
      "execution_count": null,
      "outputs": [
        {
          "output_type": "stream",
          "name": "stdout",
          "text": [
            "(prog (registro (datosPacienteSentence Paciente: Juan Pérez Gómez , 1 2 3 4 5 6 7 8) diagnosticoSentence (medicamentoSentence Medicamento: Paracetamol , 500 mg , Tableta , Oral , 5 , Tomar cada ocho horas .) Diagnostico: Gripe común (medicamentoSentence Medicamento: Ibuprofeno , 10 mg , Tableta , Oral , 5 , Tomar cada cinco horas .) (fechasSentence Expede: 01-05-25 Caduce: 01-06-25)) <EOF>)\n"
          ]
        },
        {
          "output_type": "stream",
          "name": "stderr",
          "text": [
            "line 2:26 mismatched input 'Medicamento:' expecting 'Diagnostico:'\n",
            "line 3:26 extraneous input 'Diagnostico:' expecting {'Expede:', 'Medicamento:'}\n"
          ]
        }
      ]
    },
    {
      "cell_type": "code",
      "source": [
        "# Prueba 3\n",
        "print(parse_expression(\"\"\"Paciente: Luis Alberto Gómez, 556688\n",
        "                          Diagnostico: Infección urinaria\n",
        "                          Medicamento: Fenazopiridina, 100 mg, Tableta, Oral, p, Tomar cada ocho horas por tres días.\n",
        "                          Expede: 15-06-25 Caduce: 15-07-25\"\"\"))"
      ],
      "metadata": {
        "colab": {
          "base_uri": "https://localhost:8080/"
        },
        "id": "Bj7GEqsKAUkQ",
        "outputId": "bce483f2-ff2d-4528-a380-182d01b85c57"
      },
      "execution_count": null,
      "outputs": [
        {
          "output_type": "stream",
          "name": "stdout",
          "text": [
            "(prog (registro (datosPacienteSentence Paciente: Luis Alberto Gómez , 5 5 6 6 8 8) (diagnosticoSentence Diagnostico: Infección urinaria) (medicamentoSentence Medicamento: Fenazopiridina , 100 mg , Tableta , Oral , p , Tomar cada ocho horas por tres días .) (fechasSentence Expede: 15-06-25 Caduce: 15-07-25)) <EOF>)\n"
          ]
        },
        {
          "output_type": "stream",
          "name": "stderr",
          "text": [
            "line 2:26 mismatched input 'Diagnostico:' expecting INT\n",
            "line 3:78 mismatched input 'p' expecting {INT, WS}\n"
          ]
        }
      ]
    }
  ]
}